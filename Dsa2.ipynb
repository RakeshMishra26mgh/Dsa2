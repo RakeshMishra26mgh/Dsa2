{
  "nbformat": 4,
  "nbformat_minor": 0,
  "metadata": {
    "colab": {
      "provenance": [],
      "authorship_tag": "ABX9TyOymlnlALxFFbCj5prshcQJ",
      "include_colab_link": true
    },
    "kernelspec": {
      "name": "python3",
      "display_name": "Python 3"
    },
    "language_info": {
      "name": "python"
    }
  },
  "cells": [
    {
      "cell_type": "markdown",
      "metadata": {
        "id": "view-in-github",
        "colab_type": "text"
      },
      "source": [
        "<a href=\"https://colab.research.google.com/github/RakeshMishra26mgh/Dsa2/blob/main/Dsa2.ipynb\" target=\"_parent\"><img src=\"https://colab.research.google.com/assets/colab-badge.svg\" alt=\"Open In Colab\"/></a>"
      ]
    },
    {
      "cell_type": "markdown",
      "source": [
        "Answer 1:-"
      ],
      "metadata": {
        "id": "HmGYMluB4ZJt"
      }
    },
    {
      "cell_type": "code",
      "source": [
        "def arrayPairSum(nums):\n",
        "    nums.sort()\n",
        "    return sum(nums[::2])\n",
        "\n",
        "n = int(input(\"Enter the number of elements in the array: \"))\n",
        "nums = []\n",
        "for i in range(n):\n",
        "    nums.append(int(input(\"Enter element number \" + str(i+1) + \": \")))\n",
        "\n",
        "print(\"The maximum possible sum is:\", arrayPairSum(nums))\n"
      ],
      "metadata": {
        "id": "Tk_ix-HbFQ_q"
      },
      "execution_count": null,
      "outputs": []
    },
    {
      "cell_type": "markdown",
      "source": [
        "Answer 2:-"
      ],
      "metadata": {
        "id": "RihgoCf2J0We"
      }
    },
    {
      "cell_type": "code",
      "source": [
        "def distributeCandies(candyType):\n",
        "    return min(len(candyType) // 2, len(set(candyType)))\n",
        "\n",
        "n = int(input(\"Enter the number of elements in the array: \"))\n",
        "candyType = []\n",
        "for i in range(n):\n",
        "    candyType.append(int(input(\"Enter element number \" + str(i+1) + \": \")))\n",
        "\n",
        "print(\"The maximum number of different types of candies Alice can eat is:\", distributeCandies(candyType))\n"
      ],
      "metadata": {
        "id": "ts69BVeFJ36g"
      },
      "execution_count": null,
      "outputs": []
    },
    {
      "cell_type": "markdown",
      "source": [
        "Answer 3:-"
      ],
      "metadata": {
        "id": "TXzZsJNpKR7Y"
      }
    },
    {
      "cell_type": "code",
      "source": [
        "def findLHS(nums):\n",
        "    num_counts = {}\n",
        "    for num in nums:\n",
        "        if num not in num_counts:\n",
        "            num_counts[num] = 0\n",
        "        num_counts[num] += 1\n",
        "\n",
        "    max_length = 0\n",
        "    for num in num_counts:\n",
        "        if num + 1 in num_counts:\n",
        "            max_length = max(max_length, num_counts[num] + num_counts[num + 1])\n",
        "\n",
        "    return max_length\n",
        "\n",
        "n = int(input(\"Enter the number of elements in the array: \"))\n",
        "nums = []\n",
        "for i in range(n):\n",
        "    nums.append(int(input(\"Enter element number \" + str(i+1) + \": \")))\n",
        "\n",
        "print(\"The length of the longest harmonious subsequence is:\", findLHS(nums))\n"
      ],
      "metadata": {
        "id": "WPS2MHj7KUxx"
      },
      "execution_count": null,
      "outputs": []
    },
    {
      "cell_type": "markdown",
      "source": [
        "Answer 4:-"
      ],
      "metadata": {
        "id": "oUAVgzB8LwPA"
      }
    },
    {
      "cell_type": "code",
      "source": [
        "def canPlaceFlowers(flowerbed, n):\n",
        "    count = 0\n",
        "    i = 0\n",
        "    while i < len(flowerbed):\n",
        "        if flowerbed[i] == 0 and (i == 0 or flowerbed[i - 1] == 0) and (i == len(flowerbed) - 1 or flowerbed[i + 1] == 0):\n",
        "            flowerbed[i] = 1\n",
        "            count += 1\n",
        "        i += 1\n",
        "\n",
        "    return count >= n\n",
        "\n",
        "flowerbed = list(map(int, input(\"Enter the flower bed as a list of integers (0 or 1) with only spaces in between the elements : \").split()))\n",
        "n = int(input(\"Enter the number of new flowers to be planted: \"))\n",
        "print(canPlaceFlowers(flowerbed, n))\n"
      ],
      "metadata": {
        "id": "wWgi42OMLybf"
      },
      "execution_count": null,
      "outputs": []
    },
    {
      "cell_type": "markdown",
      "source": [
        "Answer 5:-"
      ],
      "metadata": {
        "id": "w75gYG08N7wv"
      }
    },
    {
      "cell_type": "code",
      "source": [
        "def maximumProduct(nums):\n",
        "    nums.sort()\n",
        "    return max(nums[-1] * nums[-2] * nums[-3], nums[0] * nums[1] * nums[-1])\n",
        "\n",
        "nums = list(map(int, input(\"Enter the integer array with only spaces in between the elements: \").split()))\n",
        "print(maximumProduct(nums))\n"
      ],
      "metadata": {
        "id": "WVgg1XRaN-aJ"
      },
      "execution_count": null,
      "outputs": []
    },
    {
      "cell_type": "markdown",
      "source": [
        "Answer 6:-"
      ],
      "metadata": {
        "id": "HFNuwgJuP_Ey"
      }
    },
    {
      "cell_type": "code",
      "source": [
        "def search(nums, target):\n",
        "    left = 0\n",
        "    right = len(nums) - 1\n",
        "\n",
        "    while left <= right:\n",
        "        mid = (left + right) // 2\n",
        "\n",
        "        if nums[mid] == target:\n",
        "            return mid\n",
        "        elif nums[mid] < target:\n",
        "            left = mid + 1\n",
        "        else:\n",
        "            right = mid - 1\n",
        "\n",
        "    return -1\n",
        "\n",
        "nums = list(map(int, input(\"Enter the array of integers separated by space: \").split()))\n",
        "target = int(input(\"Enter the target integer: \"))\n",
        "\n",
        "print(search(nums, target))\n"
      ],
      "metadata": {
        "id": "arqyxeEhQBIC"
      },
      "execution_count": null,
      "outputs": []
    },
    {
      "cell_type": "markdown",
      "source": [
        "Answer 7:-"
      ],
      "metadata": {
        "id": "Nx5zp9SB-qCK"
      }
    },
    {
      "cell_type": "code",
      "source": [
        "def isMonotonic(nums):\n",
        "    increasing = decreasing = True\n",
        "\n",
        "    for i in range(1, len(nums)):\n",
        "        if nums[i] > nums[i - 1]:\n",
        "            decreasing = False\n",
        "        elif nums[i] < nums[i - 1]:\n",
        "            increasing = False\n",
        "\n",
        "    return increasing or decreasing\n",
        "\n",
        "nums = list(map(int, input(\"Enter the array of integers separated by space: \").split()))\n",
        "\n",
        "print(isMonotonic(nums))\n"
      ],
      "metadata": {
        "id": "36i_2K70Ss9h"
      },
      "execution_count": null,
      "outputs": []
    },
    {
      "cell_type": "markdown",
      "source": [
        "Answer 8:-"
      ],
      "metadata": {
        "id": "8O3hYtvG_JYa"
      }
    },
    {
      "cell_type": "code",
      "source": [
        "def minScore(nums, k):\n",
        "    nums.sort()\n",
        "    n = len(nums)\n",
        "    res = nums[-1] - nums[0]\n",
        "    for i in range(n - 1):\n",
        "        a = nums[i]\n",
        "        b = nums[i + 1]\n",
        "        high = max(nums[-1] - k, a + k)\n",
        "        low = min(nums[0] + k, b - k)\n",
        "        res = min(res, high - low)\n",
        "    return res\n",
        "\n",
        "nums = list(map(int, input(\"Enter the elements of the array separated by spaces: \").split()))\n",
        "k = int(input(\"Enter the value of k: \"))\n",
        "print(minScore(nums, k))\n"
      ],
      "metadata": {
        "id": "A5HeMq2cUvN3"
      },
      "execution_count": null,
      "outputs": []
    }
  ]
}